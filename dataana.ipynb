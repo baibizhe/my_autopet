{
 "cells": [
  {
   "cell_type": "code",
   "execution_count": 33,
   "id": "c6acd4cd-9da8-4a83-b0af-3c324ead379c",
   "metadata": {},
   "outputs": [
    {
     "name": "stdout",
     "output_type": "stream",
     "text": [
      "data/FDG-PET-CT-Lesions/PETCT_47cd731006/01-25-2002-NA-PET-CT Ganzkoerper  primaer mit KM-31216\n",
      "0patient data/FDG-PET-CT-Lesions/PETCT_47cd731006 is not healthy with labels [0 1]  shape is (652, 400, 400) \n",
      "data/FDG-PET-CT-Lesions/PETCT_d27451634d/03-12-2005-NA-PET-CT Ganzkoerper  primaer mit KM-00632\n",
      "1patient data/FDG-PET-CT-Lesions/PETCT_d27451634d is  healthy shape is (1154, 400, 400)\n",
      "data/FDG-PET-CT-Lesions/PETCT_da4ce0da01/06-13-2003-NA-PET-CT Ganzkoerper  primaer mit KM-85721\n",
      "2patient data/FDG-PET-CT-Lesions/PETCT_da4ce0da01 is  healthy shape is (652, 400, 400)\n",
      "data/FDG-PET-CT-Lesions/PETCT_95efdaba3c/10-11-2003-NA-PET-CT Ganzkoerper  primaer mit KM-59531\n",
      "3patient data/FDG-PET-CT-Lesions/PETCT_95efdaba3c is not healthy with labels [0 1]  shape is (1070, 400, 400) \n",
      "data/FDG-PET-CT-Lesions/PETCT_94986389d4/11-11-2002-NA-PET-CT Ganzkoerper  primaer mit KM-46343\n",
      "4patient data/FDG-PET-CT-Lesions/PETCT_94986389d4 is not healthy with labels [0 1]  shape is (652, 400, 400) \n",
      "data/FDG-PET-CT-Lesions/PETCT_265c26907a/11-10-2005-NA-PET-CT Ganzkoerper  primaer mit KM-06968\n",
      "5patient data/FDG-PET-CT-Lesions/PETCT_265c26907a is  healthy shape is (598, 400, 400)\n",
      "data/FDG-PET-CT-Lesions/PETCT_c596a50286/05-16-2003-NA-PET-CT Ganzkoerper nativ-76854\n",
      "6patient data/FDG-PET-CT-Lesions/PETCT_c596a50286 is  healthy shape is (818, 400, 400)\n",
      "data/FDG-PET-CT-Lesions/PETCT_1b199d094d/03-16-2002-NA-PET-CT Ganzkoerper  primaer mit KM-32644\n",
      "7patient data/FDG-PET-CT-Lesions/PETCT_1b199d094d is not healthy with labels [0 1]  shape is (736, 400, 400) \n",
      "data/FDG-PET-CT-Lesions/PETCT_1a8bd52f71/05-05-2006-NA-PET-CT Ganzkoerper  primaer mit KM-99815\n",
      "8patient data/FDG-PET-CT-Lesions/PETCT_1a8bd52f71 is  healthy shape is (564, 400, 400)\n",
      "data/FDG-PET-CT-Lesions/PETCT_b510436d83/11-10-2002-NA-PET-CT Ganzkoerper  primaer mit KM-03941\n",
      "9patient data/FDG-PET-CT-Lesions/PETCT_b510436d83 is not healthy with labels [0 1]  shape is (652, 400, 400) \n",
      "data/FDG-PET-CT-Lesions/PETCT_b510436d83/11-14-2003-NA-PET-CT Ganzkoerper  primaer mit KM-35292\n"
     ]
    },
    {
     "ename": "SystemError",
     "evalue": "<built-in function ReadImage> returned a result with an error set",
     "output_type": "error",
     "traceback": [
      "\u001b[0;31m---------------------------------------------------------------------------\u001b[0m",
      "\u001b[0;31mKeyboardInterrupt\u001b[0m                         Traceback (most recent call last)",
      "\u001b[0;32m/lustre07/scratch/baibizhe/aienv/lib/python3.8/site-packages/SimpleITK/SimpleITK.py\u001b[0m in \u001b[0;36m<lambda>\u001b[0;34m(self, name, value)\u001b[0m\n\u001b[1;32m   3708\u001b[0m     \u001b[0m__swig_setmethods__\u001b[0m \u001b[0;34m=\u001b[0m \u001b[0;34m{\u001b[0m\u001b[0;34m}\u001b[0m\u001b[0;34m\u001b[0m\u001b[0;34m\u001b[0m\u001b[0m\n\u001b[0;32m-> 3709\u001b[0;31m     \u001b[0m__setattr__\u001b[0m \u001b[0;34m=\u001b[0m \u001b[0;32mlambda\u001b[0m \u001b[0mself\u001b[0m\u001b[0;34m,\u001b[0m \u001b[0mname\u001b[0m\u001b[0;34m,\u001b[0m \u001b[0mvalue\u001b[0m\u001b[0;34m:\u001b[0m \u001b[0m_swig_setattr\u001b[0m\u001b[0;34m(\u001b[0m\u001b[0mself\u001b[0m\u001b[0;34m,\u001b[0m \u001b[0mImage\u001b[0m\u001b[0;34m,\u001b[0m \u001b[0mname\u001b[0m\u001b[0;34m,\u001b[0m \u001b[0mvalue\u001b[0m\u001b[0;34m)\u001b[0m\u001b[0;34m\u001b[0m\u001b[0;34m\u001b[0m\u001b[0m\n\u001b[0m\u001b[1;32m   3710\u001b[0m     \u001b[0m__swig_getmethods__\u001b[0m \u001b[0;34m=\u001b[0m \u001b[0;34m{\u001b[0m\u001b[0;34m}\u001b[0m\u001b[0;34m\u001b[0m\u001b[0;34m\u001b[0m\u001b[0m\n",
      "\u001b[0;31mKeyboardInterrupt\u001b[0m: ",
      "\nThe above exception was the direct cause of the following exception:\n",
      "\u001b[0;31mSystemError\u001b[0m                               Traceback (most recent call last)",
      "\u001b[0;32m<ipython-input-33-9735e69177aa>\u001b[0m in \u001b[0;36m<module>\u001b[0;34m\u001b[0m\n\u001b[1;32m     17\u001b[0m         \u001b[0mpatient_dir\u001b[0m \u001b[0;34m=\u001b[0m \u001b[0mos\u001b[0m\u001b[0;34m.\u001b[0m\u001b[0mpath\u001b[0m\u001b[0;34m.\u001b[0m\u001b[0mjoin\u001b[0m\u001b[0;34m(\u001b[0m\u001b[0mpatient\u001b[0m\u001b[0;34m,\u001b[0m\u001b[0msub_patient\u001b[0m\u001b[0;34m)\u001b[0m\u001b[0;34m\u001b[0m\u001b[0;34m\u001b[0m\u001b[0m\n\u001b[1;32m     18\u001b[0m         \u001b[0mprint\u001b[0m\u001b[0;34m(\u001b[0m\u001b[0mpatient_dir\u001b[0m\u001b[0;34m)\u001b[0m\u001b[0;34m\u001b[0m\u001b[0;34m\u001b[0m\u001b[0m\n\u001b[0;32m---> 19\u001b[0;31m         \u001b[0mimage\u001b[0m\u001b[0;34m,\u001b[0m\u001b[0mlabel\u001b[0m \u001b[0;34m=\u001b[0m \u001b[0mread_CTres_and_SUV_image\u001b[0m\u001b[0;34m(\u001b[0m\u001b[0mpatient_dir\u001b[0m\u001b[0;34m)\u001b[0m\u001b[0;34m\u001b[0m\u001b[0;34m\u001b[0m\u001b[0m\n\u001b[0m\u001b[1;32m     20\u001b[0m         \u001b[0mtrain_image_path\u001b[0m \u001b[0;34m=\u001b[0m \u001b[0mos\u001b[0m\u001b[0;34m.\u001b[0m\u001b[0mpath\u001b[0m\u001b[0;34m.\u001b[0m\u001b[0mjoin\u001b[0m\u001b[0;34m(\u001b[0m\u001b[0mpatient_dir\u001b[0m\u001b[0;34m,\u001b[0m\u001b[0;34m\"training_data_image.npy\"\u001b[0m\u001b[0;34m)\u001b[0m\u001b[0;34m\u001b[0m\u001b[0;34m\u001b[0m\u001b[0m\n\u001b[1;32m     21\u001b[0m         \u001b[0;31m# train_label_path = os.path.join(patient_dir,\"training_data_label.npy\")\u001b[0m\u001b[0;34m\u001b[0m\u001b[0;34m\u001b[0m\u001b[0;34m\u001b[0m\u001b[0m\n",
      "\u001b[0;32m<ipython-input-15-a7643e50f1b1>\u001b[0m in \u001b[0;36mread_CTres_and_SUV_image\u001b[0;34m(patientPath)\u001b[0m\n\u001b[1;32m      1\u001b[0m \u001b[0;32mdef\u001b[0m \u001b[0mread_CTres_and_SUV_image\u001b[0m\u001b[0;34m(\u001b[0m\u001b[0mpatientPath\u001b[0m\u001b[0;34m)\u001b[0m\u001b[0;34m:\u001b[0m\u001b[0;34m\u001b[0m\u001b[0;34m\u001b[0m\u001b[0m\n\u001b[1;32m      2\u001b[0m     \u001b[0mCTres_Path\u001b[0m \u001b[0;34m=\u001b[0m \u001b[0mos\u001b[0m\u001b[0;34m.\u001b[0m\u001b[0mpath\u001b[0m\u001b[0;34m.\u001b[0m\u001b[0mjoin\u001b[0m\u001b[0;34m(\u001b[0m\u001b[0mpatientPath\u001b[0m\u001b[0;34m,\u001b[0m \u001b[0;34m\"CTres.nii.gz\"\u001b[0m\u001b[0;34m)\u001b[0m\u001b[0;34m\u001b[0m\u001b[0;34m\u001b[0m\u001b[0m\n\u001b[0;32m----> 3\u001b[0;31m     \u001b[0mimgCTres\u001b[0m \u001b[0;34m=\u001b[0m \u001b[0msitk\u001b[0m\u001b[0;34m.\u001b[0m\u001b[0mReadImage\u001b[0m\u001b[0;34m(\u001b[0m\u001b[0mCTres_Path\u001b[0m\u001b[0;34m)\u001b[0m\u001b[0;34m\u001b[0m\u001b[0;34m\u001b[0m\u001b[0m\n\u001b[0m\u001b[1;32m      4\u001b[0m     \u001b[0mimgCTres\u001b[0m \u001b[0;34m=\u001b[0m \u001b[0msitk\u001b[0m\u001b[0;34m.\u001b[0m\u001b[0mGetArrayFromImage\u001b[0m\u001b[0;34m(\u001b[0m\u001b[0mimgCTres\u001b[0m\u001b[0;34m)\u001b[0m\u001b[0;34m\u001b[0m\u001b[0;34m\u001b[0m\u001b[0m\n\u001b[1;32m      5\u001b[0m \u001b[0;34m\u001b[0m\u001b[0m\n",
      "\u001b[0;32m/lustre07/scratch/baibizhe/aienv/lib/python3.8/site-packages/SimpleITK/SimpleITK.py\u001b[0m in \u001b[0;36mReadImage\u001b[0;34m(*args)\u001b[0m\n\u001b[1;32m   8874\u001b[0m \u001b[0;34m\u001b[0m\u001b[0m\n\u001b[1;32m   8875\u001b[0m     \"\"\"\n\u001b[0;32m-> 8876\u001b[0;31m     \u001b[0;32mreturn\u001b[0m \u001b[0m_SimpleITK\u001b[0m\u001b[0;34m.\u001b[0m\u001b[0mReadImage\u001b[0m\u001b[0;34m(\u001b[0m\u001b[0;34m*\u001b[0m\u001b[0margs\u001b[0m\u001b[0;34m)\u001b[0m\u001b[0;34m\u001b[0m\u001b[0;34m\u001b[0m\u001b[0m\n\u001b[0m\u001b[1;32m   8877\u001b[0m \u001b[0;32mclass\u001b[0m \u001b[0mImageViewer\u001b[0m\u001b[0;34m(\u001b[0m\u001b[0m_object\u001b[0m\u001b[0;34m)\u001b[0m\u001b[0;34m:\u001b[0m\u001b[0;34m\u001b[0m\u001b[0;34m\u001b[0m\u001b[0m\n\u001b[1;32m   8878\u001b[0m     \"\"\"\n",
      "\u001b[0;31mSystemError\u001b[0m: <built-in function ReadImage> returned a result with an error set"
     ]
    }
   ],
   "source": [
    "import glob,os\n",
    "import SimpleITK as sitk\n",
    "import numpy as np\n",
    "from os.path import exists\n",
    "import os\n",
    "# data_dir=\"data/FDG-PET-CT-Lesions/PETCT_04a4e1c874/11-18-2001-NA-PET-CT Ganzkoerper  primaer mit KM-96019\"\n",
    "data_dir = \"data/FDG-PET-CT-Lesions/\"\n",
    "all_patients = os.listdir(data_dir)\n",
    "all_patients =list(map(lambda x: os.path.join(data_dir,x),all_patients))\n",
    "all_patients_path =[]\n",
    "wealthy_p_count = 0\n",
    "\n",
    "for i,patient in enumerate(all_patients):\n",
    "    # print(i,patient)\n",
    "    sub_patients = os.listdir(patient)\n",
    "    for sub_patient in sub_patients:\n",
    "        patient_dir = os.path.join(patient,sub_patient)\n",
    "        print(patient_dir)\n",
    "        image,label = read_CTres_and_SUV_image(patient_dir)\n",
    "        train_image_path = os.path.join(patient_dir,\"training_data_image.npy\")\n",
    "        # train_label_path = os.path.join(patient_dir,\"training_data_label.npy\")\n",
    "        train_marker_path = os.path.join(patient_dir,\"training_data_marker.npy\")\n",
    "        if (label.sum()==0):\n",
    "            wealthy_p_count +=1\n",
    "            np.save(train_image_path,image)\n",
    "            # np.save(train_label_path,label)\n",
    "            np.save(train_marker_path,np.array([0]))\n",
    "\n",
    "            print(str(i)+\"patient {} is  healthy shape is {}\".format(patient,image.shape))\n",
    "\n",
    "        else:\n",
    "            np.save(train_image_path,image)\n",
    "            # np.save(train_label_path,label)\n",
    "            np.save(train_marker_path,np.array([1]))\n",
    "\n",
    "            print(str(i)+\"patient {} is not healthy with labels {}  shape is {} \".format(patient,np.unique(label),image.shape))\n",
    "print(wealthy_p_count/len(all_patients))\n",
    "\n",
    "\n",
    "    \n"
   ]
  },
  {
   "cell_type": "code",
   "execution_count": 15,
   "id": "4752df02-973d-4550-9059-7225ae677e49",
   "metadata": {},
   "outputs": [],
   "source": [
    "def read_CTres_and_SUV_image(patientPath):\n",
    "    CTres_Path = os.path.join(patientPath, \"CTres.nii.gz\")\n",
    "    imgCTres = sitk.ReadImage(CTres_Path)\n",
    "    imgCTres = sitk.GetArrayFromImage(imgCTres)\n",
    "\n",
    "    SUV_Path = os.path.join(patientPath, \"SUV.nii.gz\")\n",
    "    imgSUV = sitk.ReadImage(SUV_Path)\n",
    "    imgSUV = sitk.GetArrayFromImage(imgSUV)\n",
    "    \n",
    "    seg_Path = os.path.join(patientPath, \"SEG.nii.gz\")\n",
    "    imgSEG = sitk.ReadImage(seg_Path)\n",
    "    imgSEG = sitk.GetArrayFromImage(imgSEG)\n",
    "    # return imgCTres,imgSUV,imgSEG\n",
    "    return  np.concatenate((imgCTres,imgSUV),0) ,    imgSEG"
   ]
  }
 ],
 "metadata": {
  "kernelspec": {
   "display_name": "Python 38segenv Kernel",
   "language": "python",
   "name": "segenv1"
  },
  "language_info": {
   "codemirror_mode": {
    "name": "ipython",
    "version": 3
   },
   "file_extension": ".py",
   "mimetype": "text/x-python",
   "name": "python",
   "nbconvert_exporter": "python",
   "pygments_lexer": "ipython3",
   "version": "3.8.10"
  }
 },
 "nbformat": 4,
 "nbformat_minor": 5
}
